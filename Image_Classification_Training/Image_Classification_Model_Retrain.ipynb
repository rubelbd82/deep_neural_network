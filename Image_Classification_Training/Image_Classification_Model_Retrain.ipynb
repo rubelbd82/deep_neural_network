{
 "cells": [
  {
   "cell_type": "code",
   "execution_count": 1,
   "metadata": {},
   "outputs": [
    {
     "name": "stderr",
     "output_type": "stream",
     "text": [
      "Using TensorFlow backend.\n"
     ]
    }
   ],
   "source": [
    "from keras import applications\n",
    "from keras.preprocessing.image import ImageDataGenerator\n",
    "from keras import optimizers\n",
    "from keras.models import Sequential, Model\n",
    "from keras.layers import Dropout, Flatten, Dense, GlobalAveragePooling2D\n",
    "from keras import backend as k\n",
    "from keras.callbacks import ModelCheckpoint, LearningRateScheduler, TensorBoard, EarlyStopping\n",
    "from keras.models import load_model\n",
    "from keras.applications.mobilenet import MobileNet, decode_predictions,preprocess_input\n",
    "# from keras.applications.inception_v3 import InceptionV3, decode_predictions,preprocess_input\n",
    "import cv2\n",
    "from io import BytesIO\n",
    "import numpy as np\n",
    "import urllib\n",
    "from PIL import Image"
   ]
  },
  {
   "cell_type": "code",
   "execution_count": 2,
   "metadata": {},
   "outputs": [],
   "source": [
    "img_width, img_height = 224, 224\n",
    "train_data_dir = \"/home/asus-pc/workspace/jyu/deeplearning/notebooks/deep_neural_network/input/emotion/fer2013_ready/train\"\n",
    "validation_data_dir = \"/home/asus-pc/workspace/jyu/deeplearning/notebooks/deep_neural_network/input/emotion/fer2013_ready/validation\"\n",
    "batch_size = 32\n",
    "epochs = 50"
   ]
  },
  {
   "cell_type": "code",
   "execution_count": 3,
   "metadata": {},
   "outputs": [],
   "source": [
    "nb_train_samples = 20964\n",
    "nb_validation_samples = 300"
   ]
  },
  {
   "cell_type": "raw",
   "metadata": {},
   "source": [
    "import os\n",
    "os.environ[\"CUDA_VISIBLE_DEVICES\"] = \"1\""
   ]
  },
  {
   "cell_type": "code",
   "execution_count": 4,
   "metadata": {},
   "outputs": [
    {
     "name": "stdout",
     "output_type": "stream",
     "text": [
      "WARNING:tensorflow:From /home/asus-pc/anaconda3/envs/tf-gpu/lib/python3.7/site-packages/keras/backend/tensorflow_backend.py:74: The name tf.get_default_graph is deprecated. Please use tf.compat.v1.get_default_graph instead.\n",
      "\n",
      "WARNING:tensorflow:From /home/asus-pc/anaconda3/envs/tf-gpu/lib/python3.7/site-packages/keras/backend/tensorflow_backend.py:517: The name tf.placeholder is deprecated. Please use tf.compat.v1.placeholder instead.\n",
      "\n",
      "WARNING:tensorflow:From /home/asus-pc/anaconda3/envs/tf-gpu/lib/python3.7/site-packages/keras/backend/tensorflow_backend.py:4138: The name tf.random_uniform is deprecated. Please use tf.random.uniform instead.\n",
      "\n",
      "WARNING:tensorflow:From /home/asus-pc/anaconda3/envs/tf-gpu/lib/python3.7/site-packages/keras/backend/tensorflow_backend.py:174: The name tf.get_default_session is deprecated. Please use tf.compat.v1.get_default_session instead.\n",
      "\n",
      "WARNING:tensorflow:From /home/asus-pc/anaconda3/envs/tf-gpu/lib/python3.7/site-packages/keras/backend/tensorflow_backend.py:181: The name tf.ConfigProto is deprecated. Please use tf.compat.v1.ConfigProto instead.\n",
      "\n",
      "WARNING:tensorflow:From /home/asus-pc/anaconda3/envs/tf-gpu/lib/python3.7/site-packages/keras/backend/tensorflow_backend.py:186: The name tf.Session is deprecated. Please use tf.compat.v1.Session instead.\n",
      "\n",
      "WARNING:tensorflow:From /home/asus-pc/anaconda3/envs/tf-gpu/lib/python3.7/site-packages/keras/backend/tensorflow_backend.py:190: The name tf.global_variables is deprecated. Please use tf.compat.v1.global_variables instead.\n",
      "\n",
      "WARNING:tensorflow:From /home/asus-pc/anaconda3/envs/tf-gpu/lib/python3.7/site-packages/keras/backend/tensorflow_backend.py:199: The name tf.is_variable_initialized is deprecated. Please use tf.compat.v1.is_variable_initialized instead.\n",
      "\n",
      "WARNING:tensorflow:From /home/asus-pc/anaconda3/envs/tf-gpu/lib/python3.7/site-packages/keras/backend/tensorflow_backend.py:206: The name tf.variables_initializer is deprecated. Please use tf.compat.v1.variables_initializer instead.\n",
      "\n",
      "WARNING:tensorflow:From /home/asus-pc/anaconda3/envs/tf-gpu/lib/python3.7/site-packages/keras/backend/tensorflow_backend.py:1834: The name tf.nn.fused_batch_norm is deprecated. Please use tf.compat.v1.nn.fused_batch_norm instead.\n",
      "\n",
      "WARNING:tensorflow:From /home/asus-pc/anaconda3/envs/tf-gpu/lib/python3.7/site-packages/keras/backend/tensorflow_backend.py:133: The name tf.placeholder_with_default is deprecated. Please use tf.compat.v1.placeholder_with_default instead.\n",
      "\n",
      "_________________________________________________________________\n",
      "Layer (type)                 Output Shape              Param #   \n",
      "=================================================================\n",
      "input_1 (InputLayer)         (None, 224, 224, 3)       0         \n",
      "_________________________________________________________________\n",
      "conv1_pad (ZeroPadding2D)    (None, 225, 225, 3)       0         \n",
      "_________________________________________________________________\n",
      "conv1 (Conv2D)               (None, 112, 112, 32)      864       \n",
      "_________________________________________________________________\n",
      "conv1_bn (BatchNormalization (None, 112, 112, 32)      128       \n",
      "_________________________________________________________________\n",
      "conv1_relu (ReLU)            (None, 112, 112, 32)      0         \n",
      "_________________________________________________________________\n",
      "conv_dw_1 (DepthwiseConv2D)  (None, 112, 112, 32)      288       \n",
      "_________________________________________________________________\n",
      "conv_dw_1_bn (BatchNormaliza (None, 112, 112, 32)      128       \n",
      "_________________________________________________________________\n",
      "conv_dw_1_relu (ReLU)        (None, 112, 112, 32)      0         \n",
      "_________________________________________________________________\n",
      "conv_pw_1 (Conv2D)           (None, 112, 112, 64)      2048      \n",
      "_________________________________________________________________\n",
      "conv_pw_1_bn (BatchNormaliza (None, 112, 112, 64)      256       \n",
      "_________________________________________________________________\n",
      "conv_pw_1_relu (ReLU)        (None, 112, 112, 64)      0         \n",
      "_________________________________________________________________\n",
      "conv_pad_2 (ZeroPadding2D)   (None, 113, 113, 64)      0         \n",
      "_________________________________________________________________\n",
      "conv_dw_2 (DepthwiseConv2D)  (None, 56, 56, 64)        576       \n",
      "_________________________________________________________________\n",
      "conv_dw_2_bn (BatchNormaliza (None, 56, 56, 64)        256       \n",
      "_________________________________________________________________\n",
      "conv_dw_2_relu (ReLU)        (None, 56, 56, 64)        0         \n",
      "_________________________________________________________________\n",
      "conv_pw_2 (Conv2D)           (None, 56, 56, 128)       8192      \n",
      "_________________________________________________________________\n",
      "conv_pw_2_bn (BatchNormaliza (None, 56, 56, 128)       512       \n",
      "_________________________________________________________________\n",
      "conv_pw_2_relu (ReLU)        (None, 56, 56, 128)       0         \n",
      "_________________________________________________________________\n",
      "conv_dw_3 (DepthwiseConv2D)  (None, 56, 56, 128)       1152      \n",
      "_________________________________________________________________\n",
      "conv_dw_3_bn (BatchNormaliza (None, 56, 56, 128)       512       \n",
      "_________________________________________________________________\n",
      "conv_dw_3_relu (ReLU)        (None, 56, 56, 128)       0         \n",
      "_________________________________________________________________\n",
      "conv_pw_3 (Conv2D)           (None, 56, 56, 128)       16384     \n",
      "_________________________________________________________________\n",
      "conv_pw_3_bn (BatchNormaliza (None, 56, 56, 128)       512       \n",
      "_________________________________________________________________\n",
      "conv_pw_3_relu (ReLU)        (None, 56, 56, 128)       0         \n",
      "_________________________________________________________________\n",
      "conv_pad_4 (ZeroPadding2D)   (None, 57, 57, 128)       0         \n",
      "_________________________________________________________________\n",
      "conv_dw_4 (DepthwiseConv2D)  (None, 28, 28, 128)       1152      \n",
      "_________________________________________________________________\n",
      "conv_dw_4_bn (BatchNormaliza (None, 28, 28, 128)       512       \n",
      "_________________________________________________________________\n",
      "conv_dw_4_relu (ReLU)        (None, 28, 28, 128)       0         \n",
      "_________________________________________________________________\n",
      "conv_pw_4 (Conv2D)           (None, 28, 28, 256)       32768     \n",
      "_________________________________________________________________\n",
      "conv_pw_4_bn (BatchNormaliza (None, 28, 28, 256)       1024      \n",
      "_________________________________________________________________\n",
      "conv_pw_4_relu (ReLU)        (None, 28, 28, 256)       0         \n",
      "_________________________________________________________________\n",
      "conv_dw_5 (DepthwiseConv2D)  (None, 28, 28, 256)       2304      \n",
      "_________________________________________________________________\n",
      "conv_dw_5_bn (BatchNormaliza (None, 28, 28, 256)       1024      \n",
      "_________________________________________________________________\n",
      "conv_dw_5_relu (ReLU)        (None, 28, 28, 256)       0         \n",
      "_________________________________________________________________\n",
      "conv_pw_5 (Conv2D)           (None, 28, 28, 256)       65536     \n",
      "_________________________________________________________________\n",
      "conv_pw_5_bn (BatchNormaliza (None, 28, 28, 256)       1024      \n",
      "_________________________________________________________________\n",
      "conv_pw_5_relu (ReLU)        (None, 28, 28, 256)       0         \n",
      "_________________________________________________________________\n",
      "conv_pad_6 (ZeroPadding2D)   (None, 29, 29, 256)       0         \n",
      "_________________________________________________________________\n",
      "conv_dw_6 (DepthwiseConv2D)  (None, 14, 14, 256)       2304      \n",
      "_________________________________________________________________\n",
      "conv_dw_6_bn (BatchNormaliza (None, 14, 14, 256)       1024      \n",
      "_________________________________________________________________\n",
      "conv_dw_6_relu (ReLU)        (None, 14, 14, 256)       0         \n",
      "_________________________________________________________________\n",
      "conv_pw_6 (Conv2D)           (None, 14, 14, 512)       131072    \n",
      "_________________________________________________________________\n",
      "conv_pw_6_bn (BatchNormaliza (None, 14, 14, 512)       2048      \n",
      "_________________________________________________________________\n",
      "conv_pw_6_relu (ReLU)        (None, 14, 14, 512)       0         \n",
      "_________________________________________________________________\n",
      "conv_dw_7 (DepthwiseConv2D)  (None, 14, 14, 512)       4608      \n",
      "_________________________________________________________________\n",
      "conv_dw_7_bn (BatchNormaliza (None, 14, 14, 512)       2048      \n",
      "_________________________________________________________________\n",
      "conv_dw_7_relu (ReLU)        (None, 14, 14, 512)       0         \n",
      "_________________________________________________________________\n",
      "conv_pw_7 (Conv2D)           (None, 14, 14, 512)       262144    \n",
      "_________________________________________________________________\n",
      "conv_pw_7_bn (BatchNormaliza (None, 14, 14, 512)       2048      \n",
      "_________________________________________________________________\n",
      "conv_pw_7_relu (ReLU)        (None, 14, 14, 512)       0         \n",
      "_________________________________________________________________\n",
      "conv_dw_8 (DepthwiseConv2D)  (None, 14, 14, 512)       4608      \n",
      "_________________________________________________________________\n",
      "conv_dw_8_bn (BatchNormaliza (None, 14, 14, 512)       2048      \n",
      "_________________________________________________________________\n",
      "conv_dw_8_relu (ReLU)        (None, 14, 14, 512)       0         \n",
      "_________________________________________________________________\n",
      "conv_pw_8 (Conv2D)           (None, 14, 14, 512)       262144    \n",
      "_________________________________________________________________\n",
      "conv_pw_8_bn (BatchNormaliza (None, 14, 14, 512)       2048      \n",
      "_________________________________________________________________\n",
      "conv_pw_8_relu (ReLU)        (None, 14, 14, 512)       0         \n",
      "_________________________________________________________________\n",
      "conv_dw_9 (DepthwiseConv2D)  (None, 14, 14, 512)       4608      \n",
      "_________________________________________________________________\n",
      "conv_dw_9_bn (BatchNormaliza (None, 14, 14, 512)       2048      \n",
      "_________________________________________________________________\n",
      "conv_dw_9_relu (ReLU)        (None, 14, 14, 512)       0         \n",
      "_________________________________________________________________\n",
      "conv_pw_9 (Conv2D)           (None, 14, 14, 512)       262144    \n",
      "_________________________________________________________________\n",
      "conv_pw_9_bn (BatchNormaliza (None, 14, 14, 512)       2048      \n",
      "_________________________________________________________________\n",
      "conv_pw_9_relu (ReLU)        (None, 14, 14, 512)       0         \n",
      "_________________________________________________________________\n",
      "conv_dw_10 (DepthwiseConv2D) (None, 14, 14, 512)       4608      \n",
      "_________________________________________________________________\n",
      "conv_dw_10_bn (BatchNormaliz (None, 14, 14, 512)       2048      \n",
      "_________________________________________________________________\n",
      "conv_dw_10_relu (ReLU)       (None, 14, 14, 512)       0         \n",
      "_________________________________________________________________\n",
      "conv_pw_10 (Conv2D)          (None, 14, 14, 512)       262144    \n",
      "_________________________________________________________________\n",
      "conv_pw_10_bn (BatchNormaliz (None, 14, 14, 512)       2048      \n",
      "_________________________________________________________________\n",
      "conv_pw_10_relu (ReLU)       (None, 14, 14, 512)       0         \n",
      "_________________________________________________________________\n",
      "conv_dw_11 (DepthwiseConv2D) (None, 14, 14, 512)       4608      \n",
      "_________________________________________________________________\n",
      "conv_dw_11_bn (BatchNormaliz (None, 14, 14, 512)       2048      \n",
      "_________________________________________________________________\n",
      "conv_dw_11_relu (ReLU)       (None, 14, 14, 512)       0         \n",
      "_________________________________________________________________\n",
      "conv_pw_11 (Conv2D)          (None, 14, 14, 512)       262144    \n",
      "_________________________________________________________________\n",
      "conv_pw_11_bn (BatchNormaliz (None, 14, 14, 512)       2048      \n",
      "_________________________________________________________________\n",
      "conv_pw_11_relu (ReLU)       (None, 14, 14, 512)       0         \n",
      "_________________________________________________________________\n",
      "conv_pad_12 (ZeroPadding2D)  (None, 15, 15, 512)       0         \n",
      "_________________________________________________________________\n",
      "conv_dw_12 (DepthwiseConv2D) (None, 7, 7, 512)         4608      \n",
      "_________________________________________________________________\n",
      "conv_dw_12_bn (BatchNormaliz (None, 7, 7, 512)         2048      \n",
      "_________________________________________________________________\n",
      "conv_dw_12_relu (ReLU)       (None, 7, 7, 512)         0         \n",
      "_________________________________________________________________\n",
      "conv_pw_12 (Conv2D)          (None, 7, 7, 1024)        524288    \n",
      "_________________________________________________________________\n",
      "conv_pw_12_bn (BatchNormaliz (None, 7, 7, 1024)        4096      \n",
      "_________________________________________________________________\n",
      "conv_pw_12_relu (ReLU)       (None, 7, 7, 1024)        0         \n",
      "_________________________________________________________________\n",
      "conv_dw_13 (DepthwiseConv2D) (None, 7, 7, 1024)        9216      \n",
      "_________________________________________________________________\n",
      "conv_dw_13_bn (BatchNormaliz (None, 7, 7, 1024)        4096      \n",
      "_________________________________________________________________\n",
      "conv_dw_13_relu (ReLU)       (None, 7, 7, 1024)        0         \n",
      "_________________________________________________________________\n",
      "conv_pw_13 (Conv2D)          (None, 7, 7, 1024)        1048576   \n",
      "_________________________________________________________________\n",
      "conv_pw_13_bn (BatchNormaliz (None, 7, 7, 1024)        4096      \n",
      "_________________________________________________________________\n",
      "conv_pw_13_relu (ReLU)       (None, 7, 7, 1024)        0         \n",
      "=================================================================\n",
      "Total params: 3,228,864\n",
      "Trainable params: 3,206,976\n",
      "Non-trainable params: 21,888\n",
      "_________________________________________________________________\n"
     ]
    }
   ],
   "source": [
    "model = applications.mobilenet.MobileNet(weights = \"imagenet\", include_top=False, input_shape = (img_width, img_height, 3))\n",
    "\n",
    "model.summary()"
   ]
  },
  {
   "cell_type": "code",
   "execution_count": 5,
   "metadata": {},
   "outputs": [],
   "source": [
    "# Freeze the layers which you don't want to train. Here the first 5 layers are frosen.\n",
    "for layer in model.layers[:5]:\n",
    "    layer.trainable = False"
   ]
  },
  {
   "cell_type": "code",
   "execution_count": 6,
   "metadata": {},
   "outputs": [
    {
     "name": "stdout",
     "output_type": "stream",
     "text": [
      "WARNING:tensorflow:From /home/asus-pc/anaconda3/envs/tf-gpu/lib/python3.7/site-packages/keras/backend/tensorflow_backend.py:3445: calling dropout (from tensorflow.python.ops.nn_ops) with keep_prob is deprecated and will be removed in a future version.\n",
      "Instructions for updating:\n",
      "Please use `rate` instead of `keep_prob`. Rate should be set to `rate = 1 - keep_prob`.\n"
     ]
    }
   ],
   "source": [
    "#Adding custom Layers\n",
    "x = model.output\n",
    "x = Flatten()(x)\n",
    "x = Dense(1024, activation=\"relu\")(x)\n",
    "x = Dropout(0.5)(x)\n",
    "x = Dense(1024, activation=\"relu\")(x)\n",
    "x = Dropout(0.5)(x)\n",
    "x = Dense(1024, activation=\"relu\")(x)\n",
    "x = Dropout(0.5)(x)\n",
    "x = Dense(1024, activation=\"relu\")(x)\n",
    "x = Dropout(0.5)(x)\n",
    "x = Dense(1024, activation=\"relu\")(x)\n",
    "predictions = Dense(3, activation=\"softmax\")(x)"
   ]
  },
  {
   "cell_type": "code",
   "execution_count": 7,
   "metadata": {},
   "outputs": [
    {
     "name": "stderr",
     "output_type": "stream",
     "text": [
      "/home/asus-pc/anaconda3/envs/tf-gpu/lib/python3.7/site-packages/ipykernel_launcher.py:2: UserWarning: Update your `Model` call to the Keras 2 API: `Model(inputs=Tensor(\"in..., outputs=Tensor(\"de...)`\n",
      "  \n"
     ]
    }
   ],
   "source": [
    "# creating the final model\n",
    "model_final = Model(input = model.input, output = predictions)"
   ]
  },
  {
   "cell_type": "code",
   "execution_count": 8,
   "metadata": {},
   "outputs": [
    {
     "name": "stdout",
     "output_type": "stream",
     "text": [
      "WARNING:tensorflow:From /home/asus-pc/anaconda3/envs/tf-gpu/lib/python3.7/site-packages/keras/optimizers.py:790: The name tf.train.Optimizer is deprecated. Please use tf.compat.v1.train.Optimizer instead.\n",
      "\n",
      "WARNING:tensorflow:From /home/asus-pc/anaconda3/envs/tf-gpu/lib/python3.7/site-packages/keras/backend/tensorflow_backend.py:3295: The name tf.log is deprecated. Please use tf.math.log instead.\n",
      "\n"
     ]
    }
   ],
   "source": [
    "# compile the model\n",
    "learning_rate = 0.0001\n",
    "# decay_rate = learning_rate / epochs\n",
    "\n",
    "\n",
    "model_final.compile(loss = \"categorical_crossentropy\",\n",
    "optimizer = optimizers.adam(lr=learning_rate),\n",
    "metrics=[\"accuracy\"])"
   ]
  },
  {
   "cell_type": "code",
   "execution_count": 9,
   "metadata": {},
   "outputs": [
    {
     "name": "stdout",
     "output_type": "stream",
     "text": [
      "Found 20964 images belonging to 3 classes.\n",
      "Found 300 images belonging to 3 classes.\n"
     ]
    }
   ],
   "source": [
    "# Initiate the train and test generators with data Augmentation\n",
    "train_datagen = ImageDataGenerator(\n",
    "    rescale = 1./255,\n",
    "    horizontal_flip = True,\n",
    "    fill_mode = \"nearest\",\n",
    "    zoom_range = 0.3,\n",
    "    width_shift_range = 0.3,\n",
    "    height_shift_range=0.3,\n",
    "    rotation_range=30)\n",
    "\n",
    "test_datagen = ImageDataGenerator(\n",
    "    rescale = 1./255,\n",
    "    horizontal_flip = True,\n",
    "    fill_mode = \"nearest\",\n",
    "    zoom_range = 0.3,\n",
    "    width_shift_range = 0.3,\n",
    "    height_shift_range=0.3,\n",
    "    rotation_range=30)\n",
    "\n",
    "train_generator = train_datagen.flow_from_directory(\n",
    "    train_data_dir,\n",
    "    target_size = (img_height, img_width),\n",
    "    batch_size = batch_size,\n",
    "    class_mode = \"categorical\",\n",
    "    color_mode=\"rgb\")\n",
    "\n",
    "validation_generator = test_datagen.flow_from_directory(\n",
    "    validation_data_dir,\n",
    "    target_size = (img_height, img_width),\n",
    "    class_mode = \"categorical\",\n",
    "    color_mode=\"rgb\")"
   ]
  },
  {
   "cell_type": "code",
   "execution_count": 10,
   "metadata": {},
   "outputs": [
    {
     "data": {
      "text/plain": [
       "{'happy': 0, 'neutral': 1, 'sad': 2}"
      ]
     },
     "execution_count": 10,
     "metadata": {},
     "output_type": "execute_result"
    }
   ],
   "source": [
    "label_map = (train_generator.class_indices)\n",
    "label_map"
   ]
  },
  {
   "cell_type": "code",
   "execution_count": 11,
   "metadata": {},
   "outputs": [
    {
     "name": "stdout",
     "output_type": "stream",
     "text": [
      "WARNING:tensorflow:From /home/asus-pc/anaconda3/envs/tf-gpu/lib/python3.7/site-packages/tensorflow_core/python/ops/math_grad.py:1424: where (from tensorflow.python.ops.array_ops) is deprecated and will be removed in a future version.\n",
      "Instructions for updating:\n",
      "Use tf.where in 2.0, which has the same broadcast rule as np.where\n"
     ]
    },
    {
     "name": "stderr",
     "output_type": "stream",
     "text": [
      "/home/asus-pc/anaconda3/envs/tf-gpu/lib/python3.7/site-packages/ipykernel_launcher.py:10: UserWarning: The semantics of the Keras 2 argument `steps_per_epoch` is not the same as the Keras 1 argument `samples_per_epoch`. `steps_per_epoch` is the number of batches to draw from the generator at each epoch. Basically steps_per_epoch = samples_per_epoch/batch_size. Similarly `nb_val_samples`->`validation_steps` and `val_samples`->`steps` arguments have changed. Update your method calls accordingly.\n",
      "  # Remove the CWD from sys.path while we load stuff.\n",
      "/home/asus-pc/anaconda3/envs/tf-gpu/lib/python3.7/site-packages/ipykernel_launcher.py:10: UserWarning: Update your `fit_generator` call to the Keras 2 API: `fit_generator(<keras_pre..., validation_data=<keras_pre..., steps_per_epoch=655, epochs=50, validation_steps=300)`\n",
      "  # Remove the CWD from sys.path while we load stuff.\n"
     ]
    },
    {
     "name": "stdout",
     "output_type": "stream",
     "text": [
      "WARNING:tensorflow:From /home/asus-pc/anaconda3/envs/tf-gpu/lib/python3.7/site-packages/keras/backend/tensorflow_backend.py:986: The name tf.assign_add is deprecated. Please use tf.compat.v1.assign_add instead.\n",
      "\n",
      "WARNING:tensorflow:From /home/asus-pc/anaconda3/envs/tf-gpu/lib/python3.7/site-packages/keras/backend/tensorflow_backend.py:973: The name tf.assign is deprecated. Please use tf.compat.v1.assign instead.\n",
      "\n",
      "Epoch 1/50\n",
      "655/655 [==============================] - 284s 434ms/step - loss: 1.2505 - acc: 0.3816 - val_loss: 1.0876 - val_acc: 0.3403\n",
      "Epoch 2/50\n",
      "655/655 [==============================] - 302s 461ms/step - loss: 0.9482 - acc: 0.5011 - val_loss: 0.9763 - val_acc: 0.4973\n",
      "Epoch 3/50\n",
      "655/655 [==============================] - 301s 459ms/step - loss: 0.8413 - acc: 0.5708 - val_loss: 0.9193 - val_acc: 0.5484\n",
      "Epoch 4/50\n",
      "655/655 [==============================] - 301s 459ms/step - loss: 0.7915 - acc: 0.5931 - val_loss: 0.8884 - val_acc: 0.5526\n",
      "Epoch 5/50\n",
      "655/655 [==============================] - 301s 459ms/step - loss: 0.7592 - acc: 0.6037 - val_loss: 0.8700 - val_acc: 0.5608\n",
      "Epoch 6/50\n",
      "655/655 [==============================] - 302s 461ms/step - loss: 0.7360 - acc: 0.6146 - val_loss: 0.9113 - val_acc: 0.5339\n",
      "Epoch 7/50\n",
      "655/655 [==============================] - 302s 461ms/step - loss: 0.7163 - acc: 0.6220 - val_loss: 0.9063 - val_acc: 0.5521\n",
      "Epoch 8/50\n",
      "655/655 [==============================] - 300s 458ms/step - loss: 0.7061 - acc: 0.6244 - val_loss: 0.8724 - val_acc: 0.5558\n",
      "Epoch 9/50\n",
      "655/655 [==============================] - 315s 481ms/step - loss: 0.7017 - acc: 0.6330 - val_loss: 0.8422 - val_acc: 0.5636\n",
      "Epoch 10/50\n",
      "655/655 [==============================] - 355s 542ms/step - loss: 0.6880 - acc: 0.6327 - val_loss: 0.8513 - val_acc: 0.5631\n",
      "Epoch 11/50\n",
      "655/655 [==============================] - 332s 507ms/step - loss: 0.6819 - acc: 0.6303 - val_loss: 0.8691 - val_acc: 0.5604\n",
      "Epoch 12/50\n",
      "655/655 [==============================] - 313s 479ms/step - loss: 0.6721 - acc: 0.6321 - val_loss: 0.8200 - val_acc: 0.5682\n",
      "Epoch 13/50\n",
      "655/655 [==============================] - 328s 501ms/step - loss: 0.6563 - acc: 0.6425 - val_loss: 0.8282 - val_acc: 0.5700\n",
      "Epoch 14/50\n",
      "655/655 [==============================] - 323s 494ms/step - loss: 0.6564 - acc: 0.6420 - val_loss: 0.8807 - val_acc: 0.5634\n",
      "Epoch 15/50\n",
      "655/655 [==============================] - 312s 476ms/step - loss: 0.6558 - acc: 0.6408 - val_loss: 0.8593 - val_acc: 0.5770\n",
      "Epoch 16/50\n",
      "655/655 [==============================] - 311s 475ms/step - loss: 0.6549 - acc: 0.6441 - val_loss: 0.8375 - val_acc: 0.5857\n",
      "Epoch 17/50\n",
      "655/655 [==============================] - 356s 544ms/step - loss: 0.6477 - acc: 0.6445 - val_loss: 0.8093 - val_acc: 0.5822\n",
      "Epoch 18/50\n",
      "655/655 [==============================] - 309s 472ms/step - loss: 0.6422 - acc: 0.6460 - val_loss: 0.8065 - val_acc: 0.5806\n",
      "Epoch 19/50\n",
      "655/655 [==============================] - 309s 472ms/step - loss: 0.6359 - acc: 0.6505 - val_loss: 0.7750 - val_acc: 0.5891\n",
      "Epoch 20/50\n",
      "655/655 [==============================] - 310s 473ms/step - loss: 0.6349 - acc: 0.6475 - val_loss: 0.8002 - val_acc: 0.5982\n",
      "Epoch 21/50\n",
      "655/655 [==============================] - 313s 478ms/step - loss: 0.6251 - acc: 0.6519 - val_loss: 0.7791 - val_acc: 0.5701\n",
      "Epoch 22/50\n",
      "655/655 [==============================] - 312s 477ms/step - loss: 0.6300 - acc: 0.6528 - val_loss: 0.7750 - val_acc: 0.6069\n",
      "Epoch 23/50\n",
      "655/655 [==============================] - 312s 476ms/step - loss: 0.6187 - acc: 0.6637 - val_loss: 0.7497 - val_acc: 0.6430\n",
      "Epoch 24/50\n",
      "655/655 [==============================] - 312s 476ms/step - loss: 0.6119 - acc: 0.6796 - val_loss: 0.7790 - val_acc: 0.6458\n",
      "Epoch 25/50\n",
      "655/655 [==============================] - 313s 478ms/step - loss: 0.5960 - acc: 0.7081 - val_loss: 0.7124 - val_acc: 0.6984\n",
      "Epoch 26/50\n",
      "655/655 [==============================] - 319s 487ms/step - loss: 0.5787 - acc: 0.7374 - val_loss: 0.7267 - val_acc: 0.7037\n",
      "Epoch 27/50\n",
      "655/655 [==============================] - 343s 524ms/step - loss: 0.5558 - acc: 0.7550 - val_loss: 0.7490 - val_acc: 0.6884\n",
      "Epoch 28/50\n",
      "655/655 [==============================] - 316s 483ms/step - loss: 0.5373 - acc: 0.7702 - val_loss: 0.6910 - val_acc: 0.7090\n",
      "Epoch 29/50\n",
      "655/655 [==============================] - 325s 496ms/step - loss: 0.5234 - acc: 0.7761 - val_loss: 0.6896 - val_acc: 0.7134\n",
      "Epoch 30/50\n",
      "655/655 [==============================] - 313s 478ms/step - loss: 0.5145 - acc: 0.7835 - val_loss: 0.6607 - val_acc: 0.7232\n",
      "Epoch 31/50\n",
      "655/655 [==============================] - 376s 573ms/step - loss: 0.5037 - acc: 0.7896 - val_loss: 0.6781 - val_acc: 0.7039\n",
      "Epoch 32/50\n",
      "655/655 [==============================] - 369s 564ms/step - loss: 0.4885 - acc: 0.7952 - val_loss: 0.6813 - val_acc: 0.7157\n",
      "Epoch 33/50\n",
      "655/655 [==============================] - 314s 479ms/step - loss: 0.4873 - acc: 0.8012 - val_loss: 0.6737 - val_acc: 0.7201\n",
      "Epoch 34/50\n",
      "655/655 [==============================] - 353s 539ms/step - loss: 0.4717 - acc: 0.8046 - val_loss: 0.6755 - val_acc: 0.7256\n",
      "Epoch 35/50\n",
      "655/655 [==============================] - 322s 491ms/step - loss: 0.4662 - acc: 0.8062 - val_loss: 0.6660 - val_acc: 0.7206\n",
      "Epoch 36/50\n",
      "655/655 [==============================] - 348s 531ms/step - loss: 0.4589 - acc: 0.8089 - val_loss: 0.6570 - val_acc: 0.7204\n",
      "Epoch 37/50\n",
      "655/655 [==============================] - 351s 536ms/step - loss: 0.4530 - acc: 0.8133 - val_loss: 0.6439 - val_acc: 0.7476\n",
      "Epoch 38/50\n",
      "655/655 [==============================] - 331s 505ms/step - loss: 0.4424 - acc: 0.8188 - val_loss: 0.6436 - val_acc: 0.7454\n",
      "Epoch 39/50\n",
      "655/655 [==============================] - 301s 459ms/step - loss: 0.4423 - acc: 0.8208 - val_loss: 0.6672 - val_acc: 0.7326\n",
      "Epoch 40/50\n",
      "655/655 [==============================] - 291s 444ms/step - loss: 0.4391 - acc: 0.8216 - val_loss: 0.6377 - val_acc: 0.7386\n",
      "Epoch 41/50\n",
      "655/655 [==============================] - 390s 596ms/step - loss: 0.4272 - acc: 0.8258 - val_loss: 0.6718 - val_acc: 0.7284\n",
      "Epoch 42/50\n",
      "655/655 [==============================] - 418s 638ms/step - loss: 0.4164 - acc: 0.8281 - val_loss: 0.6564 - val_acc: 0.7174\n",
      "Epoch 43/50\n",
      "655/655 [==============================] - 372s 567ms/step - loss: 0.4162 - acc: 0.8303 - val_loss: 0.6520 - val_acc: 0.7301\n",
      "Epoch 44/50\n",
      "655/655 [==============================] - 314s 479ms/step - loss: 0.4137 - acc: 0.8296 - val_loss: 0.6686 - val_acc: 0.7262\n",
      "Epoch 45/50\n",
      "655/655 [==============================] - 309s 472ms/step - loss: 0.4046 - acc: 0.8376 - val_loss: 0.6525 - val_acc: 0.7329\n",
      "Epoch 46/50\n",
      "655/655 [==============================] - 321s 490ms/step - loss: 0.4007 - acc: 0.8400 - val_loss: 0.6481 - val_acc: 0.7336\n",
      "Epoch 47/50\n",
      "655/655 [==============================] - 403s 616ms/step - loss: 0.3985 - acc: 0.8414 - val_loss: 0.6716 - val_acc: 0.7244\n",
      "Epoch 48/50\n",
      "655/655 [==============================] - 383s 584ms/step - loss: 0.3964 - acc: 0.8404 - val_loss: 0.6327 - val_acc: 0.7401\n",
      "Epoch 49/50\n",
      "655/655 [==============================] - 372s 568ms/step - loss: 0.3877 - acc: 0.8426 - val_loss: 0.6634 - val_acc: 0.7190\n",
      "Epoch 50/50\n",
      "655/655 [==============================] - 366s 559ms/step - loss: 0.3765 - acc: 0.8500 - val_loss: 0.6207 - val_acc: 0.7323\n"
     ]
    },
    {
     "data": {
      "text/plain": [
       "<keras.callbacks.History at 0x7fdbc00a5f10>"
      ]
     },
     "execution_count": 11,
     "metadata": {},
     "output_type": "execute_result"
    }
   ],
   "source": [
    "# Save the model according to the conditions\n",
    "early = EarlyStopping(monitor='val_acc', min_delta=0, patience=10,\n",
    "verbose=1, mode='auto')\n",
    "# Fit the new final layers for the model\n",
    "model_final.fit_generator(\n",
    "    train_generator,\n",
    "    samples_per_epoch = nb_train_samples,\n",
    "    nb_epoch = epochs,\n",
    "    validation_data = validation_generator,\n",
    "    nb_val_samples = nb_validation_samples)\n",
    "\n",
    "# ,    callbacks = [early]"
   ]
  },
  {
   "cell_type": "code",
   "execution_count": null,
   "metadata": {},
   "outputs": [],
   "source": [
    "# test\n",
    "im = cv2.resize(cv2.imread('/home/asus-pc/workspace/jyu/deeplearning/notebooks/deep_neural_network/input/emotion/main/happy/039.jpg'), (img_width, img_height))\n",
    "\n",
    "im = np.expand_dims(im, axis=0).astype(np.float32)\n",
    "im=preprocess_input(im)\n",
    "print (im.shape)\n",
    "out = model_final.predict(im)\n",
    "model_classes=[\"happy\",\"neutral\", \"sad\"]\n",
    "print (model_classes[np.argmax(out)])\n",
    "print (out)\n",
    "print (\"Probability: \", out[0][np.argmax(out)])"
   ]
  },
  {
   "cell_type": "code",
   "execution_count": null,
   "metadata": {},
   "outputs": [],
   "source": [
    "def show_result(im):\n",
    "    im = cv2.resize(im, (img_width, img_height))\n",
    "    im = np.expand_dims(im, axis=0).astype(np.float32)\n",
    "    im=preprocess_input(im)\n",
    "    out = model_final.predict(im)\n",
    "    model_classes=[\"happy\",\"neutral\", \"sad\"]\n",
    "    print (model_classes[np.argmax(out)])\n",
    "    print (out)\n",
    "    print (\"Probability: \", out[0][np.argmax(out)])\n",
    "\n",
    "def run_visualization(url):\n",
    "    \"\"\"Running model on\"\"\"\n",
    "    try:\n",
    "        resp = urllib.request.urlopen(url)\n",
    "        image = np.asarray(bytearray(resp.read()), dtype=\"uint8\")\n",
    "        orignal_im = cv2.imdecode(image, cv2.IMREAD_COLOR)\n",
    "    except IOError:\n",
    "        print('Cannot retrieve image. Please check url: ' + url)\n",
    "        return\n",
    "    print('running model on image %s...' % url)\n",
    "    show_result(orignal_im)\n",
    "image_url = 'https://previews.123rf.com/images/nomadsoul1/nomadsoul11612/nomadsoul1161200592/68198658-angry-drunk-man-in-depression-.jpg'\n",
    "run_visualization(image_url)"
   ]
  },
  {
   "cell_type": "code",
   "execution_count": 12,
   "metadata": {},
   "outputs": [],
   "source": [
    "model_final.save('/home/asus-pc/workspace/jyu/deeplearning/notebooks/deep_neural_network/models/fer2013_set_adam_50_model.h5')  # creates a HDF5 file 'my_model.h5'"
   ]
  },
  {
   "cell_type": "code",
   "execution_count": null,
   "metadata": {},
   "outputs": [],
   "source": []
  }
 ],
 "metadata": {
  "kernelspec": {
   "display_name": "Python 3",
   "language": "python",
   "name": "python3"
  },
  "language_info": {
   "codemirror_mode": {
    "name": "ipython",
    "version": 3
   },
   "file_extension": ".py",
   "mimetype": "text/x-python",
   "name": "python",
   "nbconvert_exporter": "python",
   "pygments_lexer": "ipython3",
   "version": "3.7.6"
  }
 },
 "nbformat": 4,
 "nbformat_minor": 4
}
