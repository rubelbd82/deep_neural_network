{
 "cells": [
  {
   "cell_type": "markdown",
   "metadata": {},
   "source": [
    "# Contents"
   ]
  },
  {
   "cell_type": "markdown",
   "metadata": {},
   "source": [
    "1. Common Methods\n",
    "       \n",
    "2. Data preprocessing\n",
    "       \n",
    "3. Sparse Auto Encoder"
   ]
  },
  {
   "cell_type": "code",
   "execution_count": 1,
   "metadata": {},
   "outputs": [
    {
     "name": "stderr",
     "output_type": "stream",
     "text": [
      "Using TensorFlow backend.\n"
     ]
    }
   ],
   "source": [
    "import keras\n",
    "from keras.datasets import fashion_mnist \n",
    "from keras.layers import Input, Dense\n",
    "from keras.models import Model\n",
    "#from keras.regularizers import Regularizers\n",
    "import matplotlib.pyplot as plt \n",
    "import numpy as np\n",
    "from keras import regularizers\n",
    "from keras.callbacks import ModelCheckpoint, LearningRateScheduler, TensorBoard, EarlyStopping\n",
    "\n",
    "%matplotlib inline"
   ]
  },
  {
   "cell_type": "markdown",
   "metadata": {},
   "source": [
    "# Common Methods"
   ]
  },
  {
   "cell_type": "code",
   "execution_count": 2,
   "metadata": {},
   "outputs": [],
   "source": [
    "def show_result(test_imgs, latent_imgs, output_imgs, n=5, latent_img_width=8, latent_img_height=8):\n",
    "    \n",
    "    plt.figure(figsize=(n, 4))\n",
    "    \n",
    "    for i in range(n):\n",
    "        # display original\n",
    "        ax = plt.subplot(3, n, i + 1) \n",
    "        plt.imshow(test_imgs[i].reshape(28, 28)) \n",
    "        plt.gray()\n",
    "        # display code\n",
    "        ax = plt.subplot(3, n, i + 1 + n) \n",
    "        plt.imshow(latent_imgs[i].reshape(latent_img_width, latent_img_height))\n",
    "        plt.gray()\n",
    "\n",
    "        # display reconstruction\n",
    "        ax = plt.subplot(3, n, i + 1 + 2*n) \n",
    "        plt.imshow(output_imgs[i].reshape(28, 28)) \n",
    "        plt.gray()\n",
    "    plt.show()"
   ]
  },
  {
   "cell_type": "code",
   "execution_count": 3,
   "metadata": {},
   "outputs": [],
   "source": [
    "def model_history_plot(history):\n",
    "    plt.plot(history['loss'], label='loss')\n",
    "    plt.plot(history['val_loss'], label='val_loss')\n",
    "    plt.legend()\n",
    "    plt.show()"
   ]
  },
  {
   "cell_type": "markdown",
   "metadata": {},
   "source": [
    "# Data preprocessing"
   ]
  },
  {
   "cell_type": "code",
   "execution_count": 4,
   "metadata": {},
   "outputs": [],
   "source": [
    "# read dataset\n",
    "(x_train, _), (x_test, _) = fashion_mnist.load_data()\n",
    "# normalize all values between 0 and 1 and flatten\n",
    "# the 28x28 images into vectors of size 784.\n",
    "x_train = x_train.astype('float32') / 255.\n",
    "x_test = x_test.astype('float32') / 255.\n",
    "x_train = x_train.reshape((len(x_train), np.prod(x_train.shape[1:]))) \n",
    "x_test = x_test.reshape((len(x_test), np.prod(x_test.shape[1:])))"
   ]
  },
  {
   "cell_type": "markdown",
   "metadata": {},
   "source": [
    "# Sparse Autoencoder"
   ]
  },
  {
   "cell_type": "code",
   "execution_count": 5,
   "metadata": {},
   "outputs": [],
   "source": [
    "def getSparseAE(epochs=2, verbose=1):\n",
    "    # input layer\n",
    "    input_layer = Input(shape=(784,))\n",
    "    # encoding architecture\n",
    "    encode_layer1 = Dense(1024, activation='relu')(input_layer)\n",
    "    encode_layer2 = Dense(1024, activation='relu')(encode_layer1)\n",
    "    # latent view\n",
    "    latent_view = Dense(1024, activation='sigmoid', activity_regularizer=regularizers.l1(1e-5))(encode_layer2)\n",
    "    # decoding architecture\n",
    "    decode_layer1 = Dense(1024, activation='relu')(latent_view)\n",
    "    decode_layer2 = Dense(1024, activation='relu')(decode_layer1)\n",
    "    # output layer\n",
    "    output_layer = Dense(784)(decode_layer2)\n",
    "    # model\n",
    "    model = Model(input_layer, output_layer)\n",
    "    \n",
    "    \n",
    "    # Early dropping\n",
    "    \n",
    "    early = EarlyStopping(monitor='val_loss', min_delta=0, patience=10, verbose=1, mode='auto')\n",
    "    \n",
    "    # model.summary()\n",
    "\n",
    "    model.compile(optimizer='adadelta', loss='mse')\n",
    "\n",
    "    # fit autoencoder\n",
    "    fit = model.fit(x_train, x_train, epochs=epochs,  shuffle=True, \n",
    "              validation_data=(x_test, x_test),\n",
    "              verbose=verbose, callbacks=[early])\n",
    "\n",
    "    model_history_plot(fit.history)\n",
    "\n",
    "    # Following codes are written for demonstration purpose only\n",
    "\n",
    "    encoder = Model(input_layer, latent_view)\n",
    "    encoded_imgs = encoder.predict(x_test)\n",
    "    decoded_imgs = model.predict(x_test)\n",
    "   \n",
    "    return x_test, encoded_imgs, decoded_imgs"
   ]
  },
  {
   "cell_type": "code",
   "execution_count": 6,
   "metadata": {},
   "outputs": [
    {
     "name": "stdout",
     "output_type": "stream",
     "text": [
      "WARNING:tensorflow:From /home/asus-pc/anaconda3/envs/tf-gpu/lib/python3.7/site-packages/keras/backend/tensorflow_backend.py:74: The name tf.get_default_graph is deprecated. Please use tf.compat.v1.get_default_graph instead.\n",
      "\n",
      "WARNING:tensorflow:From /home/asus-pc/anaconda3/envs/tf-gpu/lib/python3.7/site-packages/keras/backend/tensorflow_backend.py:517: The name tf.placeholder is deprecated. Please use tf.compat.v1.placeholder instead.\n",
      "\n",
      "WARNING:tensorflow:From /home/asus-pc/anaconda3/envs/tf-gpu/lib/python3.7/site-packages/keras/backend/tensorflow_backend.py:4138: The name tf.random_uniform is deprecated. Please use tf.random.uniform instead.\n",
      "\n",
      "WARNING:tensorflow:From /home/asus-pc/anaconda3/envs/tf-gpu/lib/python3.7/site-packages/keras/optimizers.py:790: The name tf.train.Optimizer is deprecated. Please use tf.compat.v1.train.Optimizer instead.\n",
      "\n",
      "WARNING:tensorflow:From /home/asus-pc/anaconda3/envs/tf-gpu/lib/python3.7/site-packages/keras/backend/tensorflow_backend.py:986: The name tf.assign_add is deprecated. Please use tf.compat.v1.assign_add instead.\n",
      "\n",
      "WARNING:tensorflow:From /home/asus-pc/anaconda3/envs/tf-gpu/lib/python3.7/site-packages/keras/backend/tensorflow_backend.py:973: The name tf.assign is deprecated. Please use tf.compat.v1.assign instead.\n",
      "\n",
      "WARNING:tensorflow:From /home/asus-pc/anaconda3/envs/tf-gpu/lib/python3.7/site-packages/keras/backend/tensorflow_backend.py:2741: The name tf.Session is deprecated. Please use tf.compat.v1.Session instead.\n",
      "\n",
      "Train on 60000 samples, validate on 10000 samples\n",
      "Epoch 1/100\n",
      "WARNING:tensorflow:From /home/asus-pc/anaconda3/envs/tf-gpu/lib/python3.7/site-packages/keras/backend/tensorflow_backend.py:174: The name tf.get_default_session is deprecated. Please use tf.compat.v1.get_default_session instead.\n",
      "\n",
      "WARNING:tensorflow:From /home/asus-pc/anaconda3/envs/tf-gpu/lib/python3.7/site-packages/keras/backend/tensorflow_backend.py:181: The name tf.ConfigProto is deprecated. Please use tf.compat.v1.ConfigProto instead.\n",
      "\n",
      "WARNING:tensorflow:From /home/asus-pc/anaconda3/envs/tf-gpu/lib/python3.7/site-packages/keras/backend/tensorflow_backend.py:190: The name tf.global_variables is deprecated. Please use tf.compat.v1.global_variables instead.\n",
      "\n",
      "WARNING:tensorflow:From /home/asus-pc/anaconda3/envs/tf-gpu/lib/python3.7/site-packages/keras/backend/tensorflow_backend.py:199: The name tf.is_variable_initialized is deprecated. Please use tf.compat.v1.is_variable_initialized instead.\n",
      "\n",
      "WARNING:tensorflow:From /home/asus-pc/anaconda3/envs/tf-gpu/lib/python3.7/site-packages/keras/backend/tensorflow_backend.py:206: The name tf.variables_initializer is deprecated. Please use tf.compat.v1.variables_initializer instead.\n",
      "\n",
      "60000/60000 [==============================] - 21s 351us/step - loss: 0.0624 - val_loss: 0.0414\n",
      "Epoch 2/100\n",
      "60000/60000 [==============================] - 20s 330us/step - loss: 0.0376 - val_loss: 0.0328\n",
      "Epoch 3/100\n",
      "60000/60000 [==============================] - 20s 331us/step - loss: 0.0317 - val_loss: 0.0303\n",
      "Epoch 4/100\n",
      "60000/60000 [==============================] - 20s 331us/step - loss: 0.0293 - val_loss: 0.0295\n",
      "Epoch 5/100\n",
      "60000/60000 [==============================] - 20s 332us/step - loss: 0.0275 - val_loss: 0.0279\n",
      "Epoch 6/100\n",
      "60000/60000 [==============================] - 20s 331us/step - loss: 0.0262 - val_loss: 0.0263\n",
      "Epoch 7/100\n",
      "60000/60000 [==============================] - 20s 335us/step - loss: 0.0251 - val_loss: 0.0249\n",
      "Epoch 8/100\n",
      "60000/60000 [==============================] - 20s 334us/step - loss: 0.0242 - val_loss: 0.0242\n",
      "Epoch 9/100\n",
      "60000/60000 [==============================] - 20s 334us/step - loss: 0.0234 - val_loss: 0.0228\n",
      "Epoch 10/100\n",
      "60000/60000 [==============================] - 20s 335us/step - loss: 0.0227 - val_loss: 0.0226\n",
      "Epoch 11/100\n",
      "60000/60000 [==============================] - 20s 335us/step - loss: 0.0221 - val_loss: 0.0220\n",
      "Epoch 12/100\n",
      "60000/60000 [==============================] - 20s 337us/step - loss: 0.0216 - val_loss: 0.0213\n",
      "Epoch 13/100\n",
      "60000/60000 [==============================] - 20s 336us/step - loss: 0.0211 - val_loss: 0.0207\n",
      "Epoch 14/100\n",
      "60000/60000 [==============================] - 20s 335us/step - loss: 0.0207 - val_loss: 0.0211\n",
      "Epoch 15/100\n",
      "60000/60000 [==============================] - 20s 333us/step - loss: 0.0203 - val_loss: 0.0200\n",
      "Epoch 16/100\n",
      "60000/60000 [==============================] - 20s 334us/step - loss: 0.0200 - val_loss: 0.0203\n",
      "Epoch 17/100\n",
      "60000/60000 [==============================] - 20s 336us/step - loss: 0.0198 - val_loss: 0.0197\n",
      "Epoch 18/100\n",
      "60000/60000 [==============================] - 20s 341us/step - loss: 0.0195 - val_loss: 0.0195\n",
      "Epoch 19/100\n",
      "60000/60000 [==============================] - 20s 335us/step - loss: 0.0192 - val_loss: 0.0195\n",
      "Epoch 20/100\n",
      "60000/60000 [==============================] - 20s 335us/step - loss: 0.0190 - val_loss: 0.0195\n",
      "Epoch 21/100\n",
      "60000/60000 [==============================] - 20s 335us/step - loss: 0.0188 - val_loss: 0.0198\n",
      "Epoch 22/100\n",
      "60000/60000 [==============================] - 20s 335us/step - loss: 0.0186 - val_loss: 0.0182\n",
      "Epoch 23/100\n",
      "60000/60000 [==============================] - 20s 336us/step - loss: 0.0184 - val_loss: 0.0182\n",
      "Epoch 24/100\n",
      "60000/60000 [==============================] - 20s 336us/step - loss: 0.0182 - val_loss: 0.0178\n",
      "Epoch 25/100\n",
      "60000/60000 [==============================] - 20s 337us/step - loss: 0.0180 - val_loss: 0.0177\n",
      "Epoch 26/100\n",
      "60000/60000 [==============================] - 20s 337us/step - loss: 0.0178 - val_loss: 0.0177\n",
      "Epoch 27/100\n",
      "60000/60000 [==============================] - 20s 336us/step - loss: 0.0177 - val_loss: 0.0175\n",
      "Epoch 28/100\n",
      "60000/60000 [==============================] - 20s 336us/step - loss: 0.0175 - val_loss: 0.0173\n",
      "Epoch 29/100\n",
      "60000/60000 [==============================] - 20s 336us/step - loss: 0.0174 - val_loss: 0.0172\n",
      "Epoch 30/100\n",
      "60000/60000 [==============================] - 20s 338us/step - loss: 0.0172 - val_loss: 0.0179\n",
      "Epoch 31/100\n",
      "60000/60000 [==============================] - 20s 337us/step - loss: 0.0171 - val_loss: 0.0169\n",
      "Epoch 32/100\n",
      "60000/60000 [==============================] - 20s 336us/step - loss: 0.0169 - val_loss: 0.0179\n",
      "Epoch 33/100\n",
      "60000/60000 [==============================] - 20s 336us/step - loss: 0.0168 - val_loss: 0.0167\n",
      "Epoch 34/100\n",
      "60000/60000 [==============================] - 20s 336us/step - loss: 0.0167 - val_loss: 0.0165\n",
      "Epoch 35/100\n",
      "60000/60000 [==============================] - 20s 337us/step - loss: 0.0166 - val_loss: 0.0163\n",
      "Epoch 36/100\n",
      "60000/60000 [==============================] - 20s 338us/step - loss: 0.0165 - val_loss: 0.0164\n",
      "Epoch 37/100\n",
      "60000/60000 [==============================] - 20s 338us/step - loss: 0.0164 - val_loss: 0.0165\n",
      "Epoch 38/100\n",
      "60000/60000 [==============================] - 20s 339us/step - loss: 0.0163 - val_loss: 0.0162\n",
      "Epoch 39/100\n",
      "60000/60000 [==============================] - 20s 341us/step - loss: 0.0162 - val_loss: 0.0161\n",
      "Epoch 40/100\n",
      "60000/60000 [==============================] - 20s 338us/step - loss: 0.0160 - val_loss: 0.0159\n",
      "Epoch 41/100\n",
      "60000/60000 [==============================] - 20s 338us/step - loss: 0.0159 - val_loss: 0.0158\n",
      "Epoch 42/100\n",
      "60000/60000 [==============================] - 20s 339us/step - loss: 0.0158 - val_loss: 0.0159\n",
      "Epoch 43/100\n",
      "60000/60000 [==============================] - 20s 340us/step - loss: 0.0158 - val_loss: 0.0158\n",
      "Epoch 44/100\n",
      "60000/60000 [==============================] - 20s 338us/step - loss: 0.0157 - val_loss: 0.0155\n",
      "Epoch 45/100\n",
      "60000/60000 [==============================] - 20s 338us/step - loss: 0.0156 - val_loss: 0.0156\n",
      "Epoch 46/100\n",
      "60000/60000 [==============================] - 20s 338us/step - loss: 0.0155 - val_loss: 0.0154\n",
      "Epoch 47/100\n",
      "60000/60000 [==============================] - 20s 337us/step - loss: 0.0154 - val_loss: 0.0153\n",
      "Epoch 48/100\n",
      "60000/60000 [==============================] - 20s 339us/step - loss: 0.0153 - val_loss: 0.0158\n",
      "Epoch 49/100\n",
      "60000/60000 [==============================] - 20s 339us/step - loss: 0.0152 - val_loss: 0.0157\n",
      "Epoch 50/100\n",
      "60000/60000 [==============================] - 20s 338us/step - loss: 0.0152 - val_loss: 0.0152\n",
      "Epoch 51/100\n"
     ]
    },
    {
     "name": "stdout",
     "output_type": "stream",
     "text": [
      "60000/60000 [==============================] - 20s 330us/step - loss: 0.0151 - val_loss: 0.0150\n",
      "Epoch 52/100\n",
      "60000/60000 [==============================] - 20s 330us/step - loss: 0.0150 - val_loss: 0.0150\n",
      "Epoch 53/100\n",
      "60000/60000 [==============================] - 20s 329us/step - loss: 0.0149 - val_loss: 0.0149\n",
      "Epoch 54/100\n",
      "60000/60000 [==============================] - 20s 330us/step - loss: 0.0149 - val_loss: 0.0150\n",
      "Epoch 55/100\n",
      "60000/60000 [==============================] - 20s 329us/step - loss: 0.0148 - val_loss: 0.0147\n",
      "Epoch 56/100\n",
      "60000/60000 [==============================] - 20s 329us/step - loss: 0.0147 - val_loss: 0.0151\n",
      "Epoch 57/100\n",
      "60000/60000 [==============================] - 20s 329us/step - loss: 0.0147 - val_loss: 0.0148\n",
      "Epoch 58/100\n",
      "60000/60000 [==============================] - 20s 329us/step - loss: 0.0146 - val_loss: 0.0146\n",
      "Epoch 59/100\n",
      "60000/60000 [==============================] - 20s 328us/step - loss: 0.0145 - val_loss: 0.0144\n",
      "Epoch 60/100\n",
      "60000/60000 [==============================] - 20s 330us/step - loss: 0.0145 - val_loss: 0.0144\n",
      "Epoch 61/100\n",
      "60000/60000 [==============================] - 20s 328us/step - loss: 0.0144 - val_loss: 0.0147\n",
      "Epoch 62/100\n",
      "60000/60000 [==============================] - 20s 328us/step - loss: 0.0143 - val_loss: 0.0145\n",
      "Epoch 63/100\n",
      "60000/60000 [==============================] - 20s 328us/step - loss: 0.0143 - val_loss: 0.0143\n",
      "Epoch 64/100\n",
      "60000/60000 [==============================] - 20s 328us/step - loss: 0.0142 - val_loss: 0.0142\n",
      "Epoch 65/100\n",
      "60000/60000 [==============================] - 20s 328us/step - loss: 0.0142 - val_loss: 0.0143\n",
      "Epoch 66/100\n",
      "60000/60000 [==============================] - 20s 328us/step - loss: 0.0141 - val_loss: 0.0140\n",
      "Epoch 67/100\n",
      "60000/60000 [==============================] - 20s 327us/step - loss: 0.0140 - val_loss: 0.0141\n",
      "Epoch 68/100\n",
      "60000/60000 [==============================] - 20s 337us/step - loss: 0.0140 - val_loss: 0.0142\n",
      "Epoch 69/100\n",
      "60000/60000 [==============================] - 19s 323us/step - loss: 0.0140 - val_loss: 0.0139\n",
      "Epoch 70/100\n",
      "60000/60000 [==============================] - 19s 321us/step - loss: 0.0139 - val_loss: 0.0140\n",
      "Epoch 71/100\n",
      "60000/60000 [==============================] - 21s 355us/step - loss: 0.0138 - val_loss: 0.0139\n",
      "Epoch 72/100\n",
      "60000/60000 [==============================] - 22s 375us/step - loss: 0.0138 - val_loss: 0.0138\n",
      "Epoch 73/100\n",
      "60000/60000 [==============================] - 22s 372us/step - loss: 0.0137 - val_loss: 0.0148\n",
      "Epoch 74/100\n",
      "60000/60000 [==============================] - 21s 342us/step - loss: 0.0137 - val_loss: 0.0138\n",
      "Epoch 75/100\n",
      "60000/60000 [==============================] - 20s 340us/step - loss: 0.0136 - val_loss: 0.0141\n",
      "Epoch 76/100\n",
      "60000/60000 [==============================] - 21s 356us/step - loss: 0.0136 - val_loss: 0.0138\n",
      "Epoch 77/100\n",
      "60000/60000 [==============================] - 19s 323us/step - loss: 0.0136 - val_loss: 0.0137\n",
      "Epoch 78/100\n",
      "60000/60000 [==============================] - 21s 349us/step - loss: 0.0135 - val_loss: 0.0135\n",
      "Epoch 79/100\n",
      "60000/60000 [==============================] - 21s 351us/step - loss: 0.0135 - val_loss: 0.0135\n",
      "Epoch 80/100\n",
      "60000/60000 [==============================] - 21s 343us/step - loss: 0.0134 - val_loss: 0.0135\n",
      "Epoch 81/100\n",
      "60000/60000 [==============================] - 21s 354us/step - loss: 0.0134 - val_loss: 0.0135\n",
      "Epoch 82/100\n",
      "60000/60000 [==============================] - 20s 326us/step - loss: 0.0133 - val_loss: 0.0138\n",
      "Epoch 83/100\n",
      "60000/60000 [==============================] - 19s 322us/step - loss: 0.0133 - val_loss: 0.0133\n",
      "Epoch 84/100\n",
      "60000/60000 [==============================] - 20s 326us/step - loss: 0.0133 - val_loss: 0.0132\n",
      "Epoch 85/100\n",
      "60000/60000 [==============================] - 20s 328us/step - loss: 0.0132 - val_loss: 0.0132\n",
      "Epoch 86/100\n",
      "60000/60000 [==============================] - 19s 323us/step - loss: 0.0132 - val_loss: 0.0132\n",
      "Epoch 87/100\n",
      "60000/60000 [==============================] - 20s 326us/step - loss: 0.0131 - val_loss: 0.0131\n",
      "Epoch 88/100\n",
      "60000/60000 [==============================] - 20s 335us/step - loss: 0.0131 - val_loss: 0.0131\n",
      "Epoch 89/100\n",
      "60000/60000 [==============================] - 19s 323us/step - loss: 0.0131 - val_loss: 0.0132\n",
      "Epoch 90/100\n",
      "60000/60000 [==============================] - 19s 321us/step - loss: 0.0130 - val_loss: 0.0131\n",
      "Epoch 91/100\n",
      "60000/60000 [==============================] - 19s 321us/step - loss: 0.0130 - val_loss: 0.0144\n",
      "Epoch 92/100\n",
      "60000/60000 [==============================] - 19s 322us/step - loss: 0.0130 - val_loss: 0.0132\n",
      "Epoch 93/100\n",
      "60000/60000 [==============================] - 19s 323us/step - loss: 0.0129 - val_loss: 0.0130\n",
      "Epoch 94/100\n",
      "60000/60000 [==============================] - 19s 323us/step - loss: 0.0129 - val_loss: 0.0130\n",
      "Epoch 95/100\n",
      "60000/60000 [==============================] - 19s 323us/step - loss: 0.0129 - val_loss: 0.0133\n",
      "Epoch 96/100\n",
      "60000/60000 [==============================] - 19s 321us/step - loss: 0.0128 - val_loss: 0.0128\n",
      "Epoch 97/100\n",
      "60000/60000 [==============================] - 19s 319us/step - loss: 0.0128 - val_loss: 0.0130\n",
      "Epoch 98/100\n",
      "60000/60000 [==============================] - 19s 322us/step - loss: 0.0127 - val_loss: 0.0129\n",
      "Epoch 99/100\n",
      "60000/60000 [==============================] - 19s 321us/step - loss: 0.0127 - val_loss: 0.0128\n",
      "Epoch 100/100\n",
      "60000/60000 [==============================] - 19s 324us/step - loss: 0.0127 - val_loss: 0.0126\n"
     ]
    },
    {
     "data": {
      "image/png": "[encoded data removed]",
      "text/plain": [
       "<Figure size 432x288 with 1 Axes>"
      ]
     },
     "metadata": {
      "needs_background": "light"
     },
     "output_type": "display_data"
    }
   ],
   "source": [
    "x_test, encoded_imgs, decoded_imgs = getSparseAE(epochs=100)"
   ]
  },
  {
   "cell_type": "code",
   "execution_count": 7,
   "metadata": {},
   "outputs": [
    {
     "data": {
      "image/png": "[encoded data removed]",
      "text/plain": [
       "<Figure size 720x288 with 30 Axes>"
      ]
     },
     "metadata": {
      "needs_background": "light"
     },
     "output_type": "display_data"
    }
   ],
   "source": [
    "show_result(x_test, encoded_imgs, decoded_imgs, latent_img_width=32, latent_img_height=32, n=10)"
   ]
  },
  {
   "cell_type": "code",
   "execution_count": null,
   "metadata": {},
   "outputs": [],
   "source": []
  }
 ],
 "metadata": {
  "kernelspec": {
   "display_name": "Python 3",
   "language": "python",
   "name": "python3"
  },
  "language_info": {
   "codemirror_mode": {
    "name": "ipython",
    "version": 3
   },
   "file_extension": ".py",
   "mimetype": "text/x-python",
   "name": "python",
   "nbconvert_exporter": "python",
   "pygments_lexer": "ipython3",
   "version": "3.7.6"
  }
 },
 "nbformat": 4,
 "nbformat_minor": 4
}
